{
 "cells": [
  {
   "cell_type": "code",
   "execution_count": null,
   "id": "77eb71b1-9e75-4b0a-a306-0145397c14dd",
   "metadata": {},
   "outputs": [],
   "source": [
    "import pandas as pd\n",
    "import numpy as np\n",
    "\n",
    "import seaborn as sns\n",
    "import matplotlib.pyplot as plt\n",
    "%matplotlib inline\n",
    "\n",
    "from sklearn.preprocessing import OrdinalEncoder, OneHotEncoder, StandardScaler\n",
    "\n",
    "from sklearn.impute import SimpleImputer\n",
    "\n",
    "from sklearn.compose import make_column_transformer, ColumnTransformer\n",
    "from sklearn.pipeline import Pipeline, make_pipeline"
   ]
  },
  {
   "cell_type": "markdown",
   "id": "b2a2a3fe-f2b2-478c-9692-1d563ea5017f",
   "metadata": {},
   "source": [
    "## Import Data"
   ]
  },
  {
   "cell_type": "code",
   "execution_count": null,
   "id": "68dacae2-75e5-47de-b222-b6db5159a7af",
   "metadata": {},
   "outputs": [],
   "source": [
    "train_df = pd.read_csv('train.csv')\n",
    "test_df = pd.read_csv('test.csv')"
   ]
  },
  {
   "cell_type": "markdown",
   "id": "8da8394d-b762-4d7c-b432-3695f1424516",
   "metadata": {},
   "source": [
    "## Data Visualization"
   ]
  },
  {
   "cell_type": "code",
   "execution_count": null,
   "id": "ab739c13-21cf-44fb-b2f5-97b6aee7abd6",
   "metadata": {},
   "outputs": [],
   "source": [
    "train_df.head()"
   ]
  },
  {
   "cell_type": "code",
   "execution_count": null,
   "id": "72b12b1a-b220-44e1-a1d8-0471941dccef",
   "metadata": {},
   "outputs": [],
   "source": [
    "train_df.info()"
   ]
  },
  {
   "cell_type": "code",
   "execution_count": null,
   "id": "d7430e42-1808-4467-ae75-05c4cb258c8a",
   "metadata": {},
   "outputs": [],
   "source": [
    "train_df.describe()"
   ]
  },
  {
   "cell_type": "code",
   "execution_count": null,
   "id": "22bc7e67-e656-43ab-865e-1129b27f16ef",
   "metadata": {},
   "outputs": [],
   "source": [
    "train_df.describe(include=['O'])"
   ]
  },
  {
   "cell_type": "code",
   "execution_count": null,
   "id": "9bf84ac2-d3c3-4bef-8fa5-8a9285de0b4c",
   "metadata": {},
   "outputs": [],
   "source": [
    "train_df.dtypes[train_df.dtypes != 'object']"
   ]
  },
  {
   "cell_type": "code",
   "execution_count": null,
   "id": "78691d04-3eb4-41ca-83f9-068b654aee9f",
   "metadata": {},
   "outputs": [],
   "source": [
    "train_df.groupby(['Pclass'], as_index = False)['Survived'].mean()"
   ]
  },
  {
   "cell_type": "code",
   "execution_count": null,
   "id": "85162210-b905-4469-9474-9e5de1eec6a1",
   "metadata": {},
   "outputs": [],
   "source": [
    "train_df.groupby(['SibSp'], as_index = False)['Survived'].mean()"
   ]
  },
  {
   "cell_type": "code",
   "execution_count": null,
   "id": "52a2e5dc-aa78-4f24-a555-7e7de0d80d07",
   "metadata": {},
   "outputs": [],
   "source": [
    "train_df.groupby(['Parch'], as_index = False)['Survived'].mean()"
   ]
  },
  {
   "cell_type": "code",
   "execution_count": null,
   "id": "49584a67-51be-4de8-a5ea-04bc31b9c8da",
   "metadata": {},
   "outputs": [],
   "source": [
    "train_df.dtypes[train_df.dtypes == 'object']"
   ]
  },
  {
   "cell_type": "code",
   "execution_count": null,
   "id": "277efc7d-814d-4e91-9284-967ec9afda55",
   "metadata": {},
   "outputs": [],
   "source": [
    "train_df.groupby(['Sex'], as_index = False)['Survived'].mean()"
   ]
  },
  {
   "cell_type": "code",
   "execution_count": null,
   "id": "a93713bd-cca5-4303-8111-3cfb8b122cf4",
   "metadata": {},
   "outputs": [],
   "source": [
    "train_df.groupby(['Embarked'], as_index = False)['Survived'].mean()"
   ]
  },
  {
   "cell_type": "code",
   "execution_count": null,
   "id": "45bd8796-2e62-444d-a685-ba253ba1dd29",
   "metadata": {},
   "outputs": [],
   "source": [
    "train_df['Cabin'].unique()"
   ]
  },
  {
   "cell_type": "code",
   "execution_count": null,
   "id": "af8a2c6b-4053-41b4-8e98-629bd3a8a103",
   "metadata": {},
   "outputs": [],
   "source": [
    "train_df['Deck'] = train_df['Cabin'].str[0]\n",
    "test_df['Deck'] = test_df['Cabin'].str[0]"
   ]
  },
  {
   "cell_type": "code",
   "execution_count": null,
   "id": "aeea3648-a5b9-4073-9a6b-dfa771c66a3d",
   "metadata": {},
   "outputs": [],
   "source": [
    "train_df.groupby(['Deck', 'Pclass']).size()"
   ]
  },
  {
   "cell_type": "code",
   "execution_count": null,
   "id": "9be62736-5337-4f10-8141-3d79542c0368",
   "metadata": {},
   "outputs": [],
   "source": [
    "train_df.groupby(['Pclass','Deck'], as_index = False)['Survived'].mean()"
   ]
  },
  {
   "cell_type": "markdown",
   "id": "0205fd10-4e1d-4a95-a27c-37d90eb84b11",
   "metadata": {},
   "source": [
    "## Feature Extraction"
   ]
  },
  {
   "cell_type": "code",
   "execution_count": null,
   "id": "e6cf040d-b294-45ec-ac88-f443dc2b547a",
   "metadata": {},
   "outputs": [],
   "source": [
    "#Fill Deck class 1 = semi-private, class 2,3 = No\n",
    "train_df.loc[(train_df['Deck'].isnull()) & (train_df['Pclass'] == 1), 'Deck'] = 'Semi-Private'\n",
    "train_df.loc[(train_df['Deck'].isnull()) & (train_df['Pclass'].isin([2, 3])), 'Deck'] = 'No'\n",
    "\n",
    "test_df.loc[(train_df['Deck'].isnull()) & (test_df['Pclass'] == 1), 'Deck'] = 'Semi-Private'\n",
    "test_df.loc[(test_df['Deck'].isnull()) & (test_df['Pclass'].isin([2, 3])), 'Deck'] = 'No'"
   ]
  },
  {
   "cell_type": "code",
   "execution_count": null,
   "id": "ed18ee39-6b8b-4adb-bffb-78c49f148d17",
   "metadata": {},
   "outputs": [],
   "source": [
    "train_df['Family_Size'] = train_df['SibSp'] + train_df['Parch'] + 1\n",
    "test_df['Family_Size'] = test_df['SibSp'] + test_df['Parch'] + 1"
   ]
  },
  {
   "cell_type": "code",
   "execution_count": null,
   "id": "ae918b86-a9b3-4ea3-96e7-89561bce3907",
   "metadata": {},
   "outputs": [],
   "source": [
    "train_df.groupby(['Family_Size'], as_index = False)['Survived'].mean()"
   ]
  },
  {
   "cell_type": "code",
   "execution_count": null,
   "id": "a7d75da4-2e45-4102-baaf-893617e92761",
   "metadata": {},
   "outputs": [],
   "source": [
    "#Ryan Nolan\n",
    "family_map = {1: 'Alone', 2: 'Small', 3: 'Small', 4: 'Small', 5: 'Medium', 6: 'Medium', 7: 'Medium', 8: 'Large', 9: 'Large', 10: 'Large', 11: 'Large'}\n",
    "train_df['Family_Size_Grouped'] = train_df['Family_Size'].map(family_map)\n",
    "test_df['Family_Size_Grouped'] = test_df['Family_Size'].map(family_map)"
   ]
  },
  {
   "cell_type": "code",
   "execution_count": null,
   "id": "b5f94af1-cfb4-4afc-b1f9-11f8b126d072",
   "metadata": {},
   "outputs": [],
   "source": [
    "#Andrei paulavets\n",
    "train_df['Title'] = train_df['Name'].str.extract(r' ([A-Za-z]+)\\.', expand=False)\n",
    "test_df['Title'] = test_df['Name'].str.extract(r' ([A-Za-z]+)\\.', expand=False)"
   ]
  },
  {
   "cell_type": "code",
   "execution_count": null,
   "id": "149009a9-25b2-495f-b764-259e716c5459",
   "metadata": {},
   "outputs": [],
   "source": [
    "title_mask_train_df = ~train_df['Title'].isin(['Mr', 'Miss', 'Mrs', 'Master'])\n",
    "title_mask_test_df = ~test_df['Title'].isin(['Mr', 'Miss', 'Mrs', 'Master'])\n",
    "\n",
    "train_df.loc[title_mask_train_df, 'Title'] = train_df.loc[title_mask_train_df, 'Sex'].map({'male': 'Mr', 'female': 'Mrs'})\n",
    "test_df.loc[title_mask_test_df, 'Title'] = test_df.loc[title_mask_test_df, 'Sex'].map({'male': 'Mr', 'female': 'Mrs'})"
   ]
  },
  {
   "cell_type": "code",
   "execution_count": null,
   "id": "01c6115d-0fcf-411b-bf02-b720239b7e58",
   "metadata": {},
   "outputs": [],
   "source": [
    "train_df.groupby(['Title'])['Age'].mean()"
   ]
  },
  {
   "cell_type": "code",
   "execution_count": null,
   "id": "f795309c-9ff3-4166-a345-e0e0e53a4ed3",
   "metadata": {},
   "outputs": [],
   "source": [
    "#Age is fractional if less than 1. If the age is estimated, is it in the form of xx.5\n",
    "title_age_mean = {\n",
    "    'Master' : 4.5,\n",
    "    'Miss' : 22.5,\n",
    "    'Mr' : 33.5,\n",
    "    'Mrs' :36.5\n",
    "}"
   ]
  },
  {
   "cell_type": "code",
   "execution_count": null,
   "id": "a1078739-6474-4bd7-9952-d2ca1d64abe4",
   "metadata": {},
   "outputs": [],
   "source": [
    "for title, median_age in title_age_mean.items():\n",
    "        train_age_mask = (train_df['Age'].isnull()) & (train_df['Title'] == title)\n",
    "        test_age_mask = (test_df['Age'].isnull()) & (test_df['Title'] == title)\n",
    "    \n",
    "        train_df.loc[train_age_mask, 'Age'] = median_age\n",
    "        test_df.loc[test_age_mask, 'Age'] = median_age"
   ]
  },
  {
   "cell_type": "code",
   "execution_count": null,
   "id": "2db6c4b1-b999-4f56-850a-59272466b4b9",
   "metadata": {},
   "outputs": [],
   "source": [
    "train_df.groupby(['Family_Size_Grouped'], as_index = False)['Survived'].mean()"
   ]
  },
  {
   "cell_type": "code",
   "execution_count": null,
   "id": "bb72ff77-5986-42c6-b660-718818ceef70",
   "metadata": {},
   "outputs": [],
   "source": [
    "train_df['Age*Fare'] = train_df['Age'] * train_df['Fare']\n",
    "test_df['Age*Fare'] = test_df['Age'] * test_df['Fare']"
   ]
  },
  {
   "cell_type": "code",
   "execution_count": null,
   "id": "365e539f-32bd-4eb1-87a8-4e216e4d4941",
   "metadata": {},
   "outputs": [],
   "source": [
    "train_df['Pclass*Fare'] = train_df['Pclass'] * train_df['Fare']\n",
    "test_df['Pclass*Fare'] = test_df['Pclass'] * test_df['Fare']"
   ]
  },
  {
   "cell_type": "markdown",
   "id": "0acabeed-17bb-401e-baa1-29a6e6abd98a",
   "metadata": {},
   "source": [
    "## Feature Scaling & Feature Encoding"
   ]
  },
  {
   "cell_type": "code",
   "execution_count": null,
   "id": "44f7b497-7a7f-442f-9c6d-54a388382f20",
   "metadata": {},
   "outputs": [],
   "source": [
    "train_df.info()"
   ]
  },
  {
   "cell_type": "code",
   "execution_count": null,
   "id": "3f825a93-4952-497b-af42-db8489ce4603",
   "metadata": {},
   "outputs": [],
   "source": [
    "train_df = train_df.drop(columns = ['PassengerId', 'Name', 'Cabin', 'Ticket'])\n",
    "test_df = test_df.drop(columns = ['Name', 'Cabin', 'Ticket'])"
   ]
  },
  {
   "cell_type": "code",
   "execution_count": null,
   "id": "4f283c74-0b3f-41c1-9bcb-edd17c6dd6c3",
   "metadata": {},
   "outputs": [],
   "source": [
    "train_df.dtypes[train_df.dtypes == 'object']"
   ]
  },
  {
   "cell_type": "code",
   "execution_count": null,
   "id": "e4fd35bf-7324-4b96-8ca7-58402a30d984",
   "metadata": {},
   "outputs": [],
   "source": [
    "train_df.dtypes[train_df.dtypes != 'object']"
   ]
  },
  {
   "cell_type": "code",
   "execution_count": null,
   "id": "f4a1f8bc-eb99-450e-acca-b6c534c69e43",
   "metadata": {},
   "outputs": [],
   "source": [
    "ode_cols = ['Family_Size_Grouped']"
   ]
  },
  {
   "cell_type": "code",
   "execution_count": null,
   "id": "8d18aa14-37b4-45bc-90b1-399c7f5cae69",
   "metadata": {},
   "outputs": [],
   "source": [
    "ohe_cols = ['Sex','Embarked','Deck','Title']"
   ]
  },
  {
   "cell_type": "code",
   "execution_count": null,
   "id": "8aa05ab0-f41b-4399-b22f-a01d8cf2618e",
   "metadata": {},
   "outputs": [],
   "source": [
    "num_cols = ['Pclass','Age','SibSp','Parch','Fare','Family_Size','Age*Fare','Pclass*Fare']"
   ]
  },
  {
   "cell_type": "code",
   "execution_count": null,
   "id": "0168560a-1fe7-4a37-8297-30e9e8a0cce9",
   "metadata": {},
   "outputs": [],
   "source": [
    "num_pipeline = Pipeline(steps =[\n",
    "    ('impute', SimpleImputer(strategy = 'mean')),\n",
    "    ('scaler', StandardScaler())\n",
    "])"
   ]
  },
  {
   "cell_type": "code",
   "execution_count": null,
   "id": "f8e8116c-1a81-4a05-b048-fcef07003647",
   "metadata": {},
   "outputs": [],
   "source": [
    "ode_pipeline = Pipeline(steps =[\n",
    "    ('impute', SimpleImputer(strategy = 'most_frequent')),\n",
    "    ('ode', OrdinalEncoder(handle_unknown = 'use_encoded_value', unknown_value = -1))\n",
    "])"
   ]
  },
  {
   "cell_type": "code",
   "execution_count": null,
   "id": "0096e820-1f22-4238-bf24-dbfe7d67651d",
   "metadata": {},
   "outputs": [],
   "source": [
    "ohe_pipeline = Pipeline(steps =[\n",
    "    ('impute', SimpleImputer(strategy = 'most_frequent')),\n",
    "    ('ohe', OneHotEncoder(handle_unknown = 'ignore', sparse_output = False))\n",
    "])"
   ]
  },
  {
   "cell_type": "code",
   "execution_count": null,
   "id": "19752d8d-c242-4e9b-9df7-eb57873e4a08",
   "metadata": {},
   "outputs": [],
   "source": [
    "col_trans = ColumnTransformer(transformers = [\n",
    "    ('num_p', num_pipeline, num_cols),\n",
    "    ('ode_p', ode_pipeline, ode_cols),\n",
    "    ('ohe_p', ohe_pipeline, ohe_cols),\n",
    "])"
   ]
  },
  {
   "cell_type": "code",
   "execution_count": null,
   "id": "08ee416e-49e5-43f6-a3b6-5146d4e4fa65",
   "metadata": {},
   "outputs": [],
   "source": [
    "pipeline = Pipeline(steps = [\n",
    "    ('preprocessing', col_trans)\n",
    "])"
   ]
  },
  {
   "cell_type": "code",
   "execution_count": null,
   "id": "cdfda247-850f-4e18-8f4b-0039b584a409",
   "metadata": {},
   "outputs": [],
   "source": [
    "X = train_df.drop(columns = ['Survived'])\n",
    "y = train_df['Survived']"
   ]
  },
  {
   "cell_type": "code",
   "execution_count": null,
   "id": "d4e81435-086a-4ee9-a7ac-1c675935a038",
   "metadata": {},
   "outputs": [],
   "source": [
    "X_preprocessed = pipeline.fit_transform(X)"
   ]
  },
  {
   "cell_type": "markdown",
   "id": "f192cdb4-38b1-47f6-97ce-00c07ec0c8fd",
   "metadata": {},
   "source": [
    "## Train and Test split"
   ]
  },
  {
   "cell_type": "code",
   "execution_count": null,
   "id": "9837bce7-0edb-45e1-831d-80b175946ebe",
   "metadata": {},
   "outputs": [],
   "source": [
    "from sklearn.model_selection import train_test_split\n",
    "X_train, X_test, y_train, y_test = train_test_split(X_preprocessed, y, test_size = 0.2, random_state = 42)"
   ]
  },
  {
   "cell_type": "markdown",
   "id": "f89d5d64-d1de-4b7a-b126-560c55d2cd30",
   "metadata": {},
   "source": [
    "## Train and Evaluate Models"
   ]
  },
  {
   "cell_type": "code",
   "execution_count": null,
   "id": "8f167e32-b119-4df9-8f7a-9001fc66ff34",
   "metadata": {},
   "outputs": [],
   "source": [
    "from sklearn.linear_model import LogisticRegression\n",
    "from sklearn.svm import SVC\n",
    "from sklearn.tree import DecisionTreeClassifier\n",
    "from sklearn.neighbors import KNeighborsClassifier\n",
    "from sklearn.naive_bayes import GaussianNB\n",
    "from xgboost import XGBClassifier\n",
    "from sklearn.ensemble import RandomForestClassifier, AdaBoostClassifier, GradientBoostingClassifier\n",
    "\n",
    "from sklearn.model_selection import cross_val_score, StratifiedKFold, GridSearchCV\n",
    "\n",
    "from sklearn.metrics import classification_report, accuracy_score"
   ]
  },
  {
   "cell_type": "code",
   "execution_count": null,
   "id": "3860277a-a54e-4de5-bcf7-bbdf6555bc5e",
   "metadata": {},
   "outputs": [],
   "source": [
    "strat_5fold = StratifiedKFold(n_splits=5, shuffle=True, random_state=42)\n",
    "strat_3fold = StratifiedKFold(n_splits=3, shuffle=True, random_state=42)"
   ]
  },
  {
   "cell_type": "code",
   "execution_count": null,
   "id": "ccb54dd8-69ef-41cf-b3bf-459e0fe6d305",
   "metadata": {},
   "outputs": [],
   "source": [
    "LGR = LogisticRegression()"
   ]
  },
  {
   "cell_type": "code",
   "execution_count": null,
   "id": "e41f3a8b-1d40-4835-810f-2eb26b68cfd8",
   "metadata": {},
   "outputs": [],
   "source": [
    "LGR.fit(X_train, y_train)"
   ]
  },
  {
   "cell_type": "code",
   "execution_count": null,
   "id": "17808feb-3375-433b-a3f3-8aff7add1c25",
   "metadata": {},
   "outputs": [],
   "source": [
    "y_pred_LGR = LGR.predict(X_test)"
   ]
  },
  {
   "cell_type": "code",
   "execution_count": null,
   "id": "b30aeb76-d075-4cd3-a439-8e61ce52ea03",
   "metadata": {},
   "outputs": [],
   "source": [
    "accuracy_score(y_test, y_pred_LGR)"
   ]
  },
  {
   "cell_type": "code",
   "execution_count": null,
   "id": "a8f4843a-0301-4e48-b6e4-45f1ee6fc199",
   "metadata": {},
   "outputs": [],
   "source": [
    "SVC = SVC()"
   ]
  },
  {
   "cell_type": "code",
   "execution_count": null,
   "id": "286705fc-f3e4-44d6-b7da-1f486c7a1449",
   "metadata": {},
   "outputs": [],
   "source": [
    "param_grid_SVC = {\n",
    "    'C' : [0.1 ,1, 10],\n",
    "    'kernel' : ['linear', 'poly', 'rbf'],\n",
    "    'degree' : [2, 3, 4, 5],\n",
    "    'gamma' : [0.001, 0.01, 0.1, 1]\n",
    "}"
   ]
  },
  {
   "cell_type": "code",
   "execution_count": null,
   "id": "3143eccc-06d3-421a-8d0c-917ec0c6bfee",
   "metadata": {},
   "outputs": [],
   "source": [
    "SVC_cv = GridSearchCV(SVC, param_grid_SVC, cv = 5, scoring = 'accuracy', n_jobs = -1)"
   ]
  },
  {
   "cell_type": "code",
   "execution_count": null,
   "id": "865447e0-e598-4bfd-8d4a-291b56292af7",
   "metadata": {},
   "outputs": [],
   "source": [
    "SVC_cv.fit(X_train, y_train)"
   ]
  },
  {
   "cell_type": "code",
   "execution_count": null,
   "id": "41eaedc0-ef69-4de2-8bf5-ce6ef74c77a4",
   "metadata": {},
   "outputs": [],
   "source": [
    "y_pred_SVC = SVC_cv.predict(X_test)"
   ]
  },
  {
   "cell_type": "code",
   "execution_count": null,
   "id": "505797a2-a17c-4869-aa59-2f5ef64a735c",
   "metadata": {},
   "outputs": [],
   "source": [
    "accuracy_score(y_test, y_pred_SVC)"
   ]
  },
  {
   "cell_type": "code",
   "execution_count": null,
   "id": "662d6181-976b-44a9-8292-36261ef50f14",
   "metadata": {},
   "outputs": [],
   "source": [
    "KNN = KNeighborsClassifier()"
   ]
  },
  {
   "cell_type": "code",
   "execution_count": null,
   "id": "f098cf34-32b1-4977-a552-a98fb7b0c46c",
   "metadata": {},
   "outputs": [],
   "source": [
    "param_grid_KNN = {\n",
    "    'n_neighbors' : [3, 5, 7, 9],\n",
    "    'weights' : ['uniform', 'distance'],\n",
    "    'metric' : ['cityblock', 'cosine', 'euclidean', 'manhattan']\n",
    "}"
   ]
  },
  {
   "cell_type": "code",
   "execution_count": null,
   "id": "ebc65ff0-4a12-4fba-b2bf-b584df7c4c54",
   "metadata": {},
   "outputs": [],
   "source": [
    "KNN_cv = GridSearchCV(KNN, param_grid_KNN, cv = 5, scoring = 'accuracy', n_jobs = -1)"
   ]
  },
  {
   "cell_type": "code",
   "execution_count": null,
   "id": "e70d2857-e4fa-4da9-b8a2-373fac9e814a",
   "metadata": {},
   "outputs": [],
   "source": [
    "KNN_cv.fit(X_train, y_train)"
   ]
  },
  {
   "cell_type": "code",
   "execution_count": null,
   "id": "e065bf97-5e40-4799-97c8-da1188784bd4",
   "metadata": {},
   "outputs": [],
   "source": [
    "y_pred_KNN = KNN_cv.predict(X_test)"
   ]
  },
  {
   "cell_type": "code",
   "execution_count": null,
   "id": "6d2e558b-3d15-4cdd-bb36-35bf6854d279",
   "metadata": {},
   "outputs": [],
   "source": [
    "accuracy_score(y_test, y_pred_KNN)"
   ]
  },
  {
   "cell_type": "code",
   "execution_count": null,
   "id": "a4a42692-37c8-45de-9a40-150f8d013ec9",
   "metadata": {},
   "outputs": [],
   "source": [
    "DTC = DecisionTreeClassifier()"
   ]
  },
  {
   "cell_type": "code",
   "execution_count": null,
   "id": "d6c0716f-a01f-4d75-958c-0d119286f7a4",
   "metadata": {},
   "outputs": [],
   "source": [
    "param_grid_DTC = {\n",
    "    'criterion' : ['gini', 'entropy', 'log_loss'],\n",
    "    'max_depth' : [3,5,7],\n",
    "    'min_samples_split' : [2, 3, 5, 10],\n",
    "}"
   ]
  },
  {
   "cell_type": "code",
   "execution_count": null,
   "id": "f77d90d3-b2fc-42dd-8869-8287639e0d6b",
   "metadata": {},
   "outputs": [],
   "source": [
    "DTC_cv = GridSearchCV(DTC, param_grid_DTC, cv = 5, scoring = 'accuracy', n_jobs = -1)"
   ]
  },
  {
   "cell_type": "code",
   "execution_count": null,
   "id": "85500075-2414-4b95-814b-11c72dc52d2b",
   "metadata": {},
   "outputs": [],
   "source": [
    "DTC_cv.fit(X_train, y_train)"
   ]
  },
  {
   "cell_type": "code",
   "execution_count": null,
   "id": "81f627f7-e918-4c87-8e0b-980880ae8f3c",
   "metadata": {},
   "outputs": [],
   "source": [
    "y_pred_DTC = DTC_cv.predict(X_test)"
   ]
  },
  {
   "cell_type": "code",
   "execution_count": null,
   "id": "56e7bdda-03c0-479e-ada3-9ee7f2075185",
   "metadata": {},
   "outputs": [],
   "source": [
    "accuracy_score(y_test, y_pred_DTC)"
   ]
  },
  {
   "cell_type": "code",
   "execution_count": null,
   "id": "9d24b2f2-9437-4bb4-b5cd-f88bd6163ad8",
   "metadata": {},
   "outputs": [],
   "source": [
    "GNB = GaussianNB()"
   ]
  },
  {
   "cell_type": "code",
   "execution_count": null,
   "id": "09eca078-2c16-4488-b518-93abafee8eba",
   "metadata": {},
   "outputs": [],
   "source": [
    "GNB.fit(X_train, y_train)"
   ]
  },
  {
   "cell_type": "code",
   "execution_count": null,
   "id": "1852dca6-4dfa-48bd-ae78-07a053eca4f6",
   "metadata": {},
   "outputs": [],
   "source": [
    "y_pred_GNB = GNB.predict(X_test)"
   ]
  },
  {
   "cell_type": "code",
   "execution_count": null,
   "id": "f6dfc7ef-b87a-41a1-9c4b-e24d123d2e6f",
   "metadata": {},
   "outputs": [],
   "source": [
    "accuracy_score(y_test, y_pred_GNB)"
   ]
  },
  {
   "cell_type": "code",
   "execution_count": null,
   "id": "286baa50-7e9d-4402-a566-113be8e135bf",
   "metadata": {},
   "outputs": [],
   "source": [
    "RFC = RandomForestClassifier()"
   ]
  },
  {
   "cell_type": "code",
   "execution_count": null,
   "id": "f180bb9a-e5c2-4e9d-928c-04be058734fe",
   "metadata": {},
   "outputs": [],
   "source": [
    "param_grid_RFC = {\n",
    "    'max_depth' : [3, 5, 10, 15],\n",
    "    'n_estimators' : [100, 250, 500],\n",
    "    'min_samples_split' : [2, 3, 5 ,10]\n",
    "}"
   ]
  },
  {
   "cell_type": "code",
   "execution_count": null,
   "id": "37bb0905-5c0a-4a34-bdc7-381f9a968faa",
   "metadata": {},
   "outputs": [],
   "source": [
    "RFC_cv = GridSearchCV(RFC, param_grid_RFC, cv = 5, scoring = 'accuracy', n_jobs = -1)"
   ]
  },
  {
   "cell_type": "code",
   "execution_count": null,
   "id": "13570a28-02c1-4b53-825c-76c223591dcb",
   "metadata": {},
   "outputs": [],
   "source": [
    "RFC_cv.fit(X_train, y_train)"
   ]
  },
  {
   "cell_type": "code",
   "execution_count": null,
   "id": "ceaf52dd-d3ba-4626-a9b6-cab76b840b33",
   "metadata": {},
   "outputs": [],
   "source": [
    "y_pred_RFC = RFC_cv.predict(X_test)"
   ]
  },
  {
   "cell_type": "code",
   "execution_count": null,
   "id": "3158e4cd-5533-478e-b87c-e08d17d99ffa",
   "metadata": {},
   "outputs": [],
   "source": [
    "accuracy_score(y_test, y_pred_RFC)"
   ]
  },
  {
   "cell_type": "code",
   "execution_count": null,
   "id": "f356af08-0e50-469b-b14d-e25530bb2995",
   "metadata": {},
   "outputs": [],
   "source": [
    "XGB = XGBClassifier()"
   ]
  },
  {
   "cell_type": "code",
   "execution_count": null,
   "id": "70e5cfab-f95f-4211-a2a3-586822cd795b",
   "metadata": {},
   "outputs": [],
   "source": [
    "param_grid_XGB = {\n",
    "    'learning_rate': [0.01 ,0.05, 0.1, 0.2],\n",
    "    'n_estimators': [300],\n",
    "    'max_depth': [3, 5 ,7],\n",
    "    'min_child_weight': [1,2,3],\n",
    "    'gamma': [0.01, 0.1, 0.2],\n",
    "    'subsample' : [0.8, 0.9, 1.0],\n",
    "    'colsample_bytree': [0.8,0.9,1.0]\n",
    "}"
   ]
  },
  {
   "cell_type": "code",
   "execution_count": null,
   "id": "84574cb3-e3f3-4229-9f5a-ac7e2a9bcba3",
   "metadata": {},
   "outputs": [],
   "source": [
    "XGB_cv = GridSearchCV(XGB, param_grid_XGB, cv = 5, scoring = 'accuracy', n_jobs = -1)"
   ]
  },
  {
   "cell_type": "code",
   "execution_count": null,
   "id": "cbcc4861-7722-49bc-b269-5face451e07e",
   "metadata": {},
   "outputs": [],
   "source": [
    "XGB_cv.fit(X_train, y_train)"
   ]
  },
  {
   "cell_type": "code",
   "execution_count": null,
   "id": "bcf84e46-7ccc-40cf-8c96-60fc5f45d11e",
   "metadata": {},
   "outputs": [],
   "source": [
    "y_pred_XGB = XGB_cv.predict(X_test)"
   ]
  },
  {
   "cell_type": "code",
   "execution_count": null,
   "id": "73ad977f-1439-4405-a3fe-af18faea2c59",
   "metadata": {},
   "outputs": [],
   "source": [
    "accuracy_score(y_test, y_pred_XGB)"
   ]
  },
  {
   "cell_type": "code",
   "execution_count": null,
   "id": "3678a3d0-fa2a-4b39-9925-2dec8ab75aa7",
   "metadata": {},
   "outputs": [],
   "source": [
    "GBC = GradientBoostingClassifier()"
   ]
  },
  {
   "cell_type": "code",
   "execution_count": null,
   "id": "614e017a-8c54-47c7-9ff5-0d1fa1037dd9",
   "metadata": {},
   "outputs": [],
   "source": [
    "param_grid_GBC = {\n",
    "    'learning_rate': [0.01],\n",
    "    'max_depth' : [13,14,15],\n",
    "    'n_estimators' : [135,150,175],\n",
    "    'min_samples_leaf' : [23, 25 ,27],\n",
    "    'max_features': [0.5]\n",
    "}"
   ]
  },
  {
   "cell_type": "code",
   "execution_count": null,
   "id": "42e9ac26-1d6e-45d7-9268-948088a03612",
   "metadata": {},
   "outputs": [],
   "source": [
    "GBC_cv = GridSearchCV(GBC, param_grid_GBC, cv = 5, scoring = 'accuracy', n_jobs = -1)"
   ]
  },
  {
   "cell_type": "code",
   "execution_count": null,
   "id": "42e3c807-a769-437c-a06c-41dfc0c69601",
   "metadata": {},
   "outputs": [],
   "source": [
    "GBC_cv.fit(X_train, y_train)"
   ]
  },
  {
   "cell_type": "code",
   "execution_count": null,
   "id": "501d224b-ce7f-4792-94ea-0e848dbf1f1c",
   "metadata": {},
   "outputs": [],
   "source": [
    "y_pred_GBC = GBC_cv.predict(X_test)"
   ]
  },
  {
   "cell_type": "code",
   "execution_count": null,
   "id": "1d059322-e176-4939-bf0e-b3385bfb1658",
   "metadata": {},
   "outputs": [],
   "source": [
    "accuracy_score(y_test, y_pred_GBC)"
   ]
  },
  {
   "cell_type": "code",
   "execution_count": null,
   "id": "31bbbb73-3947-4b84-a6b6-d1520276260e",
   "metadata": {},
   "outputs": [],
   "source": [
    "ABC = AdaBoostClassifier()"
   ]
  },
  {
   "cell_type": "code",
   "execution_count": null,
   "id": "788cfed7-7d3e-420c-a270-1bb7e116247e",
   "metadata": {},
   "outputs": [],
   "source": [
    "param_grid_ABC = {\n",
    "    'learning_rate': [0.001,0.01, 0.1, 1],\n",
    "    'n_estimators' : [300, 500, 700],\n",
    "}"
   ]
  },
  {
   "cell_type": "code",
   "execution_count": null,
   "id": "65e95052-d8cd-4498-b4c3-c6326d7638ae",
   "metadata": {},
   "outputs": [],
   "source": [
    "ABC_cv = GridSearchCV(ABC, param_grid_ABC, cv = 5, scoring = 'accuracy', n_jobs = -1)"
   ]
  },
  {
   "cell_type": "code",
   "execution_count": null,
   "id": "dd49f861-c320-4f15-a593-6a5d19d3cb4b",
   "metadata": {},
   "outputs": [],
   "source": [
    "ABC_cv.fit(X_train, y_train)"
   ]
  },
  {
   "cell_type": "code",
   "execution_count": null,
   "id": "b5c00d3f-c468-4262-8f8e-9ceb4fb499ec",
   "metadata": {},
   "outputs": [],
   "source": [
    "y_pred_ABC = ABC_cv.predict(X_test)"
   ]
  },
  {
   "cell_type": "code",
   "execution_count": null,
   "id": "ba76141e-f296-484a-bb1c-95e6a07202ba",
   "metadata": {},
   "outputs": [],
   "source": [
    "accuracy_score(y_test, y_pred_ABC)"
   ]
  },
  {
   "cell_type": "code",
   "execution_count": null,
   "id": "d23b9c54-3d1b-472b-aa10-cc140de8d798",
   "metadata": {},
   "outputs": [],
   "source": [
    "accuracy_score(y_test, y_pred_LGR)"
   ]
  },
  {
   "cell_type": "code",
   "execution_count": null,
   "id": "20755611-17f7-4717-a932-2ec5575630e5",
   "metadata": {},
   "outputs": [],
   "source": [
    "accuracy_score(y_test, y_pred_SVC)"
   ]
  },
  {
   "cell_type": "code",
   "execution_count": null,
   "id": "9f738245-8912-4bb7-b42b-76887038bed9",
   "metadata": {},
   "outputs": [],
   "source": [
    "accuracy_score(y_test, y_pred_KNN)"
   ]
  },
  {
   "cell_type": "code",
   "execution_count": null,
   "id": "1d3f8cfa-dbd3-4001-b75e-fcc978b0b82f",
   "metadata": {},
   "outputs": [],
   "source": [
    "accuracy_score(y_test, y_pred_DTC)"
   ]
  },
  {
   "cell_type": "code",
   "execution_count": null,
   "id": "2acbcdb0-a928-4d4f-86a3-07ade05ad455",
   "metadata": {},
   "outputs": [],
   "source": [
    "accuracy_score(y_test, y_pred_GNB)"
   ]
  },
  {
   "cell_type": "code",
   "execution_count": null,
   "id": "857bea4a-c84b-4162-b1df-e51ee756f0ee",
   "metadata": {},
   "outputs": [],
   "source": [
    "accuracy_score(y_test, y_pred_RFC)"
   ]
  },
  {
   "cell_type": "code",
   "execution_count": null,
   "id": "6f95276b-d1e8-42f4-b40d-8c0539773c96",
   "metadata": {},
   "outputs": [],
   "source": [
    "accuracy_score(y_test, y_pred_XGB)"
   ]
  },
  {
   "cell_type": "code",
   "execution_count": null,
   "id": "8b0f2543-71b8-4394-9a32-fe3867ba7b3e",
   "metadata": {},
   "outputs": [],
   "source": [
    "accuracy_score(y_test, y_pred_GBC)"
   ]
  },
  {
   "cell_type": "code",
   "execution_count": null,
   "id": "65148b89-968f-4864-a40f-1acdb2704f00",
   "metadata": {},
   "outputs": [],
   "source": [
    "df_test_preprocessed = pipeline.transform(X_test)"
   ]
  },
  {
   "cell_type": "raw",
   "id": "0b4b60db-3b49-4a9b-a80f-e7f44d5dee33",
   "metadata": {},
   "source": [
    "y_out = XGB_cv.predict(df_test_preprocessed)\n",
    "\n",
    "df_y_out = test_df[['PassengerId']]\n",
    "df_y_out['Survived'] = y_out\n",
    "df_y_out.to_csv('TitanicXGB.csv', index = False)"
   ]
  }
 ],
 "metadata": {
  "kernelspec": {
   "display_name": "Python [conda env:base] *",
   "language": "python",
   "name": "conda-base-py"
  },
  "language_info": {
   "codemirror_mode": {
    "name": "ipython",
    "version": 3
   },
   "file_extension": ".py",
   "mimetype": "text/x-python",
   "name": "python",
   "nbconvert_exporter": "python",
   "pygments_lexer": "ipython3",
   "version": "3.12.7"
  }
 },
 "nbformat": 4,
 "nbformat_minor": 5
}
